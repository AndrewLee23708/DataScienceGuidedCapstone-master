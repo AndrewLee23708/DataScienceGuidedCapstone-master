{
 "cells": [
  {
   "cell_type": "markdown",
   "metadata": {},
   "source": [
    "### What is the business problem you're investigating and what hypothesis can be made to support the business outcome?"
   ]
  },
  {
   "cell_type": "markdown",
   "metadata": {},
   "source": [
    "What is the business problem you're investigating and what hypothesis can be made to\n",
    "support the business outcome?\n",
    "Tip: Review the last paragraph of the overview and generate ideas about how to\n",
    "increase revenue for the resort. Once you have an idea or two, use the data overview\n",
    "provided below to determine if your idea can be evaluated and supported by these data. Keep in mind that this data contains information from 330 resorts in the US that can be considered part of the same market share and we have these same data columns for\n",
    "Big Mountain Resort as well.\n",
    "Write your response in your problem statement worksheet\n",
    "\n",
    "\n",
    "- Does the region affect it?\n",
    "- Terrrain, snow, chairs (specifics)\n",
    "- This in relation to cost of tickets (week/weekend)"
   ]
  },
  {
   "cell_type": "markdown",
   "metadata": {},
   "source": []
  },
  {
   "cell_type": "markdown",
   "metadata": {},
   "source": [
    "### Context\n",
    "Here is where we define our business initiative to solve the problem the business wants to deal with.\n",
    "- Money not utilized effectively (where to cut costs on facility)\n",
    "- Pricing (premium) not efficient \n",
    "- Changes (facility, service) that can cut costs or increase revenue.\n",
    "- Facilities that bring the most"
   ]
  },
  {
   "cell_type": "markdown",
   "metadata": {},
   "source": []
  },
  {
   "cell_type": "markdown",
   "metadata": {},
   "source": [
    "### Criteria for success\n",
    "This is a key step in any business problem or data science project. You should know what the outcome expectations are, and be able to communicate them clearly to all\n",
    "involved stakeholders in order to succeed. In the absence of clearly defined success criteria and scope, it can be difficult to identify when the project is complete.\n",
    "- We will determine the right pricing model that maximizes profits\n",
    "- Determine which lifts/facility provides the most value to customers\n",
    "- What metrics determine which customers will"
   ]
  },
  {
   "cell_type": "markdown",
   "metadata": {},
   "source": []
  },
  {
   "cell_type": "markdown",
   "metadata": {},
   "source": [
    "### Scope of solution space\n",
    "The solution space provides more details about the tasks you will complete to reach the\n",
    "solution.\n"
   ]
  },
  {
   "cell_type": "markdown",
   "metadata": {},
   "source": []
  },
  {
   "cell_type": "markdown",
   "metadata": {},
   "source": [
    "### Stakeholders\n",
    "Identifying the key stakeholders in your project motivates the trajectory of your work and\n",
    "gives you access to key insights and data to support your analysis. Mapping out all the\n",
    "people with vested interests in your project outcome will help you build the network\n",
    "needed to complete the project, as well as provide an audience to address when writing\n",
    "your data story\n",
    "\n",
    "In this project, you're working directly with the Director of Operations, Jimmy Blackburn,\n",
    "and he has connected you with Alesha Eisen, the Database Manager. These are you're\n",
    "only two contacts for this project.\n"
   ]
  },
  {
   "cell_type": "markdown",
   "metadata": {},
   "source": []
  },
  {
   "cell_type": "markdown",
   "metadata": {},
   "source": [
    "### Data Source(s)\n",
    "Gaining access to the proper data sources can be difficult — perhaps you need a\n",
    "specific user level access granted to a SQL database or an S3 bucket. In this example,\n",
    "you’ll work with a single CSV file that you got from the database manager. You need to\n",
    "carefully review the data columns to ensure it has what you need to answer your\n",
    "business question. The data is loaded below; use this data snippet along with the\n",
    "column descriptions in the metadata to guide you in identifying the important columns\n",
    "needed to complete this project"
   ]
  },
  {
   "cell_type": "markdown",
   "metadata": {},
   "source": []
  }
 ],
 "metadata": {
  "language_info": {
   "name": "python"
  }
 },
 "nbformat": 4,
 "nbformat_minor": 2
}
